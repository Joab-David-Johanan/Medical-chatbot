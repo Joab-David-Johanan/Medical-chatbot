{
 "cells": [
  {
   "cell_type": "code",
   "execution_count": 18,
   "id": "3416e97d2e29056a",
   "metadata": {
    "ExecuteTime": {
     "end_time": "2025-10-17T20:36:53.286182Z",
     "start_time": "2025-10-17T20:36:53.280829Z"
    }
   },
   "outputs": [
    {
     "name": "stdout",
     "output_type": "stream",
     "text": [
      "OK\n"
     ]
    }
   ],
   "source": [
    "from openai import api_key\n",
    "from scipy.stats import cosine\n",
    "\n",
    "print(\"OK\")"
   ]
  },
  {
   "cell_type": "code",
   "execution_count": 19,
   "id": "6764c723296be717",
   "metadata": {
    "ExecuteTime": {
     "end_time": "2025-10-17T20:36:54.641247Z",
     "start_time": "2025-10-17T20:36:54.632901Z"
    }
   },
   "outputs": [
    {
     "data": {
      "text/plain": [
       "'c:\\\\Coding\\\\Projects\\\\Medical-chatbot\\\\research'"
      ]
     },
     "execution_count": 19,
     "metadata": {},
     "output_type": "execute_result"
    }
   ],
   "source": [
    "%pwd"
   ]
  },
  {
   "cell_type": "code",
   "execution_count": 20,
   "id": "441fe3bf895cdcc8",
   "metadata": {
    "ExecuteTime": {
     "end_time": "2025-10-17T20:36:56.102314Z",
     "start_time": "2025-10-17T20:36:56.097105Z"
    }
   },
   "outputs": [],
   "source": [
    "import os\n",
    "os.chdir(\"../\")"
   ]
  },
  {
   "cell_type": "code",
   "execution_count": 21,
   "id": "352e15a3cc769ee8",
   "metadata": {
    "ExecuteTime": {
     "end_time": "2025-10-17T20:43:27.392115Z",
     "start_time": "2025-10-17T20:43:27.385602Z"
    }
   },
   "outputs": [
    {
     "data": {
      "text/plain": [
       "'c:\\\\Coding\\\\Projects\\\\Medical-chatbot'"
      ]
     },
     "execution_count": 21,
     "metadata": {},
     "output_type": "execute_result"
    }
   ],
   "source": [
    "%pwd"
   ]
  },
  {
   "cell_type": "code",
   "execution_count": 22,
   "id": "f1c05890049d46cb",
   "metadata": {
    "ExecuteTime": {
     "end_time": "2025-10-17T20:50:30.752809Z",
     "start_time": "2025-10-17T20:50:30.746652Z"
    }
   },
   "outputs": [],
   "source": [
    "from langchain.document_loaders import PyPDFLoader"
   ]
  },
  {
   "cell_type": "code",
   "execution_count": 23,
   "id": "e595a6ac096933ea",
   "metadata": {
    "ExecuteTime": {
     "end_time": "2025-10-17T20:50:31.784224Z",
     "start_time": "2025-10-17T20:50:31.776325Z"
    }
   },
   "outputs": [],
   "source": [
    "# Extract text from PDF files\n",
    "def extract_text_from_pdf(pdf_path):\n",
    "    loader = PyPDFLoader(pdf_path)\n",
    "    documents = loader.load()\n",
    "    return documents"
   ]
  },
  {
   "cell_type": "code",
   "execution_count": 24,
   "id": "36f3aad40707caf7",
   "metadata": {
    "ExecuteTime": {
     "end_time": "2025-10-17T20:45:46.708535Z",
     "start_time": "2025-10-17T20:45:25.394503Z"
    }
   },
   "outputs": [],
   "source": [
    "extracted_data=extract_text_from_pdf(r\"C:\\Coding\\Projects\\Medical-chatbot\\data\\Medical_book.pdf\")"
   ]
  },
  {
   "cell_type": "code",
   "execution_count": 25,
   "id": "dd5139c3772adc4e",
   "metadata": {
    "ExecuteTime": {
     "end_time": "2025-10-17T21:08:38.322065Z",
     "start_time": "2025-10-17T21:08:38.250281Z"
    }
   },
   "outputs": [
    {
     "data": {
      "text/plain": [
       "[Document(metadata={'producer': 'PDFlib+PDI 5.0.0 (SunOS)', 'creator': 'PyPDF', 'creationdate': '2004-12-18T17:00:02-05:00', 'moddate': '2004-12-18T16:15:31-06:00', 'source': 'C:\\\\Coding\\\\Projects\\\\Medical-chatbot\\\\data\\\\Medical_book.pdf', 'total_pages': 637, 'page': 0, 'page_label': '1'}, page_content=''),\n",
       " Document(metadata={'producer': 'PDFlib+PDI 5.0.0 (SunOS)', 'creator': 'PyPDF', 'creationdate': '2004-12-18T17:00:02-05:00', 'moddate': '2004-12-18T16:15:31-06:00', 'source': 'C:\\\\Coding\\\\Projects\\\\Medical-chatbot\\\\data\\\\Medical_book.pdf', 'total_pages': 637, 'page': 1, 'page_label': '2'}, page_content='The GALE\\nENCYCLOPEDIA\\nof MEDICINE\\nSECOND EDITION')]"
      ]
     },
     "execution_count": 25,
     "metadata": {},
     "output_type": "execute_result"
    }
   ],
   "source": [
    "extracted_data[:2]"
   ]
  },
  {
   "cell_type": "code",
   "execution_count": 26,
   "id": "60ea79c535d942bc",
   "metadata": {
    "ExecuteTime": {
     "end_time": "2025-10-17T20:44:53.464551Z",
     "start_time": "2025-10-17T20:44:53.459010Z"
    }
   },
   "outputs": [
    {
     "data": {
      "text/plain": [
       "637"
      ]
     },
     "execution_count": 26,
     "metadata": {},
     "output_type": "execute_result"
    }
   ],
   "source": [
    "len(extracted_data)"
   ]
  },
  {
   "cell_type": "code",
   "execution_count": 27,
   "id": "969d50c0cffd73b2",
   "metadata": {
    "ExecuteTime": {
     "end_time": "2025-10-17T20:47:58.149119Z",
     "start_time": "2025-10-17T20:47:58.096344Z"
    }
   },
   "outputs": [],
   "source": [
    "from typing import List # for type hints or function annotations\n",
    "from langchain.schema import Document"
   ]
  },
  {
   "cell_type": "code",
   "execution_count": 28,
   "id": "23e9b7f1725863f2",
   "metadata": {
    "ExecuteTime": {
     "end_time": "2025-10-17T21:08:37.018246Z",
     "start_time": "2025-10-17T21:08:37.012949Z"
    }
   },
   "outputs": [],
   "source": [
    "def clean_metadata(docs:List[Document])->List[Document]:\n",
    "    \"\"\"\n",
    "    Given a list of Document objects, return a new list of Document objects containing\n",
    "    only 'source' in metadata and the original page_content\n",
    "    :param docs: Original list of Documents with a lot of unwanted metadata information\n",
    "    :return: Cleaned list of Documents with only necessary metadata and the original page_content\n",
    "    \"\"\"\n",
    "    cleaned_doc: List[Document]=[]\n",
    "    for doc in docs:\n",
    "        src=doc.metadata.get(\"source\")\n",
    "        cleaned_doc.append(\n",
    "            Document(\n",
    "                page_content=doc.page_content,\n",
    "                metadata={\"source\":src}\n",
    "            )\n",
    "        )\n",
    "    return cleaned_doc"
   ]
  },
  {
   "cell_type": "code",
   "execution_count": 29,
   "id": "b2eee730f2c30df1",
   "metadata": {
    "ExecuteTime": {
     "end_time": "2025-10-17T21:01:59.689734Z",
     "start_time": "2025-10-17T21:01:59.682960Z"
    }
   },
   "outputs": [],
   "source": [
    "cleaned_document=clean_metadata(extracted_data)"
   ]
  },
  {
   "cell_type": "code",
   "execution_count": 30,
   "id": "4ac88206090f20bc",
   "metadata": {
    "ExecuteTime": {
     "end_time": "2025-10-17T21:02:08.304959Z",
     "start_time": "2025-10-17T21:02:08.241683Z"
    }
   },
   "outputs": [
    {
     "data": {
      "text/plain": [
       "[Document(metadata={'source': 'C:\\\\Coding\\\\Projects\\\\Medical-chatbot\\\\data\\\\Medical_book.pdf'}, page_content=''),\n",
       " Document(metadata={'source': 'C:\\\\Coding\\\\Projects\\\\Medical-chatbot\\\\data\\\\Medical_book.pdf'}, page_content='The GALE\\nENCYCLOPEDIA\\nof MEDICINE\\nSECOND EDITION')]"
      ]
     },
     "execution_count": 30,
     "metadata": {},
     "output_type": "execute_result"
    }
   ],
   "source": [
    "cleaned_document[:2]"
   ]
  },
  {
   "cell_type": "code",
   "execution_count": 31,
   "id": "7253ad18",
   "metadata": {},
   "outputs": [
    {
     "data": {
      "text/plain": [
       "637"
      ]
     },
     "execution_count": 31,
     "metadata": {},
     "output_type": "execute_result"
    }
   ],
   "source": [
    "len(cleaned_document)"
   ]
  },
  {
   "cell_type": "code",
   "execution_count": 32,
   "id": "4bb3e45141fe05f4",
   "metadata": {
    "ExecuteTime": {
     "end_time": "2025-10-17T21:05:07.452772Z",
     "start_time": "2025-10-17T21:05:07.449529Z"
    }
   },
   "outputs": [],
   "source": [
    "from langchain.text_splitter import RecursiveCharacterTextSplitter"
   ]
  },
  {
   "cell_type": "code",
   "execution_count": 33,
   "id": "ff006d3a0e11c62b",
   "metadata": {
    "ExecuteTime": {
     "end_time": "2025-10-17T21:08:39.624412Z",
     "start_time": "2025-10-17T21:08:39.620376Z"
    }
   },
   "outputs": [],
   "source": [
    "# Split the cleaned documents into smaller chunks\n",
    "def document_into_chunks(cleaned_documents):\n",
    "    text_splitter=RecursiveCharacterTextSplitter(\n",
    "        chunk_size=500,\n",
    "        chunk_overlap=20,\n",
    "    )\n",
    "    texts=text_splitter.split_documents(cleaned_documents)\n",
    "    return texts"
   ]
  },
  {
   "cell_type": "code",
   "execution_count": 34,
   "id": "d3e1bb9f9f990aaa",
   "metadata": {
    "ExecuteTime": {
     "end_time": "2025-10-17T21:09:30.302101Z",
     "start_time": "2025-10-17T21:09:30.222863Z"
    }
   },
   "outputs": [],
   "source": [
    "chunks=document_into_chunks(cleaned_document)"
   ]
  },
  {
   "cell_type": "code",
   "execution_count": 35,
   "id": "f6297f45391a40b6",
   "metadata": {
    "ExecuteTime": {
     "end_time": "2025-10-17T21:09:46.473072Z",
     "start_time": "2025-10-17T21:09:46.437350Z"
    }
   },
   "outputs": [
    {
     "data": {
      "text/plain": [
       "[Document(metadata={'source': 'C:\\\\Coding\\\\Projects\\\\Medical-chatbot\\\\data\\\\Medical_book.pdf'}, page_content='The GALE\\nENCYCLOPEDIA\\nof MEDICINE\\nSECOND EDITION'),\n",
       " Document(metadata={'source': 'C:\\\\Coding\\\\Projects\\\\Medical-chatbot\\\\data\\\\Medical_book.pdf'}, page_content='The GALE\\nENCYCLOPEDIA\\nof MEDICINE\\nSECOND EDITION\\nJACQUELINE L. LONGE, EDITOR\\nDEIRDRE S. BLANCHFIELD, ASSOCIATE EDITOR\\nVOLUME\\nA-B\\n1')]"
      ]
     },
     "execution_count": 35,
     "metadata": {},
     "output_type": "execute_result"
    }
   ],
   "source": [
    "chunks[:2]"
   ]
  },
  {
   "cell_type": "code",
   "execution_count": 36,
   "id": "4c482be7cdaa4cd0",
   "metadata": {
    "ExecuteTime": {
     "end_time": "2025-10-17T21:09:38.095433Z",
     "start_time": "2025-10-17T21:09:38.088837Z"
    }
   },
   "outputs": [
    {
     "data": {
      "text/plain": [
       "5859"
      ]
     },
     "execution_count": 36,
     "metadata": {},
     "output_type": "execute_result"
    }
   ],
   "source": [
    "len(chunks)"
   ]
  },
  {
   "cell_type": "code",
   "execution_count": 37,
   "id": "fed1a1865b2b459",
   "metadata": {
    "ExecuteTime": {
     "end_time": "2025-10-17T21:11:56.390238Z",
     "start_time": "2025-10-17T21:11:56.319750Z"
    }
   },
   "outputs": [],
   "source": [
    "from langchain.embeddings import HuggingFaceEmbeddings"
   ]
  },
  {
   "cell_type": "code",
   "execution_count": 38,
   "id": "5f78d015726d848d",
   "metadata": {
    "ExecuteTime": {
     "end_time": "2025-10-17T21:16:34.756183Z",
     "start_time": "2025-10-17T21:16:34.749611Z"
    }
   },
   "outputs": [],
   "source": [
    "# Downloading the embedding model\n",
    "def download_embeddings():\n",
    "    \"\"\"\n",
    "    Download and return the HuggingFace Embedding model\n",
    "    :return: HuggingFace embedding model\n",
    "    \"\"\"\n",
    "    model='sentence-transformers/all-MiniLM-L6-v2'\n",
    "    embeddings=HuggingFaceEmbeddings(\n",
    "        model_name=model\n",
    "    )\n",
    "    return embeddings\n"
   ]
  },
  {
   "cell_type": "code",
   "execution_count": 39,
   "id": "6738dddff0f71b7b",
   "metadata": {
    "ExecuteTime": {
     "end_time": "2025-10-18T02:45:05.251251Z",
     "start_time": "2025-10-18T02:45:02.684327Z"
    }
   },
   "outputs": [
    {
     "name": "stderr",
     "output_type": "stream",
     "text": [
      "C:\\Users\\joabd\\AppData\\Local\\Temp\\ipykernel_26452\\788224968.py:8: LangChainDeprecationWarning: The class `HuggingFaceEmbeddings` was deprecated in LangChain 0.2.2 and will be removed in 1.0. An updated version of the class exists in the :class:`~langchain-huggingface package and should be used instead. To use it run `pip install -U :class:`~langchain-huggingface` and import as `from :class:`~langchain_huggingface import HuggingFaceEmbeddings``.\n",
      "  embeddings=HuggingFaceEmbeddings(\n"
     ]
    }
   ],
   "source": [
    "embedding_model=download_embeddings()"
   ]
  },
  {
   "cell_type": "code",
   "execution_count": 40,
   "id": "cee42353d3c4d19a",
   "metadata": {
    "ExecuteTime": {
     "end_time": "2025-10-17T21:18:48.980170Z",
     "start_time": "2025-10-17T21:18:48.972531Z"
    }
   },
   "outputs": [
    {
     "data": {
      "text/plain": [
       "HuggingFaceEmbeddings(client=SentenceTransformer(\n",
       "  (0): Transformer({'max_seq_length': 256, 'do_lower_case': False}) with Transformer model: BertModel \n",
       "  (1): Pooling({'word_embedding_dimension': 384, 'pooling_mode_cls_token': False, 'pooling_mode_mean_tokens': True, 'pooling_mode_max_tokens': False, 'pooling_mode_mean_sqrt_len_tokens': False, 'pooling_mode_weightedmean_tokens': False, 'pooling_mode_lasttoken': False, 'include_prompt': True})\n",
       "  (2): Normalize()\n",
       "), model_name='sentence-transformers/all-MiniLM-L6-v2', cache_folder=None, model_kwargs={}, encode_kwargs={}, multi_process=False, show_progress=False)"
      ]
     },
     "execution_count": 40,
     "metadata": {},
     "output_type": "execute_result"
    }
   ],
   "source": [
    "embedding_model"
   ]
  },
  {
   "cell_type": "code",
   "execution_count": 41,
   "id": "3d065ce84d114c1d",
   "metadata": {
    "ExecuteTime": {
     "end_time": "2025-10-18T03:33:32.012837Z",
     "start_time": "2025-10-18T03:33:31.984975Z"
    }
   },
   "outputs": [
    {
     "data": {
      "text/plain": [
       "[-0.03447723016142845,\n",
       " 0.031023241579532623,\n",
       " 0.006735020782798529,\n",
       " 0.026109028607606888,\n",
       " -0.039362046867609024,\n",
       " -0.16030247509479523,\n",
       " 0.06692402064800262,\n",
       " -0.006441468372941017,\n",
       " -0.04745054990053177,\n",
       " 0.01475888304412365]"
      ]
     },
     "execution_count": 41,
     "metadata": {},
     "output_type": "execute_result"
    }
   ],
   "source": [
    "vector=embedding_model.embed_query(\"Hello world\")\n",
    "vector[:10]"
   ]
  },
  {
   "cell_type": "code",
   "execution_count": 42,
   "id": "d1416f032adec8fd",
   "metadata": {
    "ExecuteTime": {
     "end_time": "2025-10-17T21:19:54.514050Z",
     "start_time": "2025-10-17T21:19:54.507906Z"
    }
   },
   "outputs": [
    {
     "data": {
      "text/plain": [
       "384"
      ]
     },
     "execution_count": 42,
     "metadata": {},
     "output_type": "execute_result"
    }
   ],
   "source": [
    "# Embedding model is a sentence transformer so it converts a sentence into a 384 dimensional vector\n",
    "len(vector)"
   ]
  },
  {
   "cell_type": "code",
   "execution_count": 43,
   "id": "7938eba78e95265",
   "metadata": {
    "ExecuteTime": {
     "end_time": "2025-10-18T00:38:30.331895Z",
     "start_time": "2025-10-18T00:38:30.319428Z"
    }
   },
   "outputs": [
    {
     "data": {
      "text/plain": [
       "True"
      ]
     },
     "execution_count": 43,
     "metadata": {},
     "output_type": "execute_result"
    }
   ],
   "source": [
    "import os\n",
    "from dotenv import load_dotenv\n",
    "load_dotenv()"
   ]
  },
  {
   "cell_type": "code",
   "execution_count": 44,
   "id": "ab4f8eaaff72d81c",
   "metadata": {
    "ExecuteTime": {
     "end_time": "2025-10-18T00:48:11.095180Z",
     "start_time": "2025-10-18T00:48:11.089359Z"
    }
   },
   "outputs": [],
   "source": [
    "PINECONE_API_KEY=os.getenv(\"PINECONE_API_KEY\")\n",
    "OPENAI_API_KEY=os.getenv(\"OPENAI_API_KEY\")"
   ]
  },
  {
   "cell_type": "code",
   "execution_count": 45,
   "id": "cef246bb8c3b6255",
   "metadata": {
    "ExecuteTime": {
     "end_time": "2025-10-18T00:52:28.893357Z",
     "start_time": "2025-10-18T00:52:28.888051Z"
    }
   },
   "outputs": [],
   "source": [
    "os.environ[\"PINECONE_API_KEY\"] = PINECONE_API_KEY\n",
    "os.environ[\"OPENAI_API_KEY\"] = OPENAI_API_KEY"
   ]
  },
  {
   "cell_type": "code",
   "execution_count": 46,
   "id": "fcea0447bef80ddd",
   "metadata": {
    "ExecuteTime": {
     "end_time": "2025-10-18T00:52:55.993792Z",
     "start_time": "2025-10-18T00:52:55.989117Z"
    }
   },
   "outputs": [],
   "source": [
    "from pinecone import Pinecone\n",
    "pc=Pinecone(api_key=PINECONE_API_KEY)"
   ]
  },
  {
   "cell_type": "code",
   "execution_count": 47,
   "id": "641990b4edfa4bd5",
   "metadata": {
    "ExecuteTime": {
     "end_time": "2025-10-18T00:52:57.600929Z",
     "start_time": "2025-10-18T00:52:57.329250Z"
    }
   },
   "outputs": [
    {
     "data": {
      "text/plain": [
       "<pinecone.pinecone.Pinecone at 0x22ac571be30>"
      ]
     },
     "execution_count": 47,
     "metadata": {},
     "output_type": "execute_result"
    }
   ],
   "source": [
    "pc"
   ]
  },
  {
   "cell_type": "code",
   "execution_count": 48,
   "id": "3a73e2e543b9b575",
   "metadata": {
    "ExecuteTime": {
     "end_time": "2025-10-18T01:15:54.150805Z",
     "start_time": "2025-10-18T01:15:53.438737Z"
    }
   },
   "outputs": [],
   "source": [
    "from pinecone import ServerlessSpec\n",
    "index_name=\"medical-chatbot\"\n",
    "\n",
    "if not pc.has_index(index_name):\n",
    "    pc.create_index(\n",
    "        name=index_name,\n",
    "        dimension=384, # Dimensionality of the embedding\n",
    "        metric=\"cosine\", # Cosine Similarity metric\n",
    "        spec=ServerlessSpec(cloud=\"aws\", region=\"us-east-1\")\n",
    "    )\n",
    "\n",
    "index=pc.Index(index_name)"
   ]
  },
  {
   "cell_type": "markdown",
   "id": "4c8e5ec58296d70c",
   "metadata": {},
   "source": [
    "#### **Note:**\n",
    "- We do not convert the chunks into vectors and store the vectors in the pinecone vector database\n",
    "- We just give the chunks, the embedding model and the index name, pinecone converts the chunks to the vectors and vice versa using the embedding model we specified.\n",
    "- <span style=\"background-color:orange;\">When you upload the documents to the pinecone vector database, it does not check if the documents are already present in a given index so there is high possibility of duplication of documents in case you run the code cell twice.</span>"
   ]
  },
  {
   "cell_type": "code",
   "execution_count": 49,
   "id": "5dc4bf14a1833870",
   "metadata": {
    "ExecuteTime": {
     "end_time": "2025-10-18T02:20:33.236698Z",
     "start_time": "2025-10-18T02:18:07.453819Z"
    }
   },
   "outputs": [],
   "source": [
    "from langchain_pinecone import PineconeVectorStore\n",
    "\n",
    "docsearch=PineconeVectorStore.from_documents(\n",
    "    documents=chunks,\n",
    "    embedding=embedding_model,\n",
    "    index_name=index_name\n",
    ")"
   ]
  },
  {
   "cell_type": "code",
   "execution_count": 50,
   "id": "cabffeeb2665e22d",
   "metadata": {
    "ExecuteTime": {
     "end_time": "2025-10-18T02:18:05.095148Z",
     "start_time": "2025-10-18T02:18:05.090907Z"
    }
   },
   "outputs": [],
   "source": [
    "retriever=docsearch.as_retriever(search_type=\"similarity\",search_kwargs={\"k\":3})"
   ]
  },
  {
   "cell_type": "code",
   "execution_count": 51,
   "id": "a0647f2f115ba216",
   "metadata": {
    "ExecuteTime": {
     "end_time": "2025-10-18T02:21:03.876280Z",
     "start_time": "2025-10-18T02:21:02.908593Z"
    }
   },
   "outputs": [],
   "source": [
    "retrieved_docs=retriever.invoke(\"What is acne?\")"
   ]
  },
  {
   "cell_type": "code",
   "execution_count": 52,
   "id": "ee349a712a612eb6",
   "metadata": {
    "ExecuteTime": {
     "end_time": "2025-10-18T02:21:25.643454Z",
     "start_time": "2025-10-18T02:21:25.625849Z"
    }
   },
   "outputs": [
    {
     "data": {
      "text/plain": [
       "[Document(id='28abe22a-2bdf-4e9c-a6b9-03d6c02b7579', metadata={'source': 'C:\\\\Coding\\\\Projects\\\\Medical-chatbot\\\\data\\\\Medical_book.pdf'}, page_content='GALE ENCYCLOPEDIA OF MEDICINE 226\\nAcne\\nGEM - 0001 to 0432 - A  10/22/03 1:41 PM  Page 26'),\n",
       " Document(id='f1b361b4-82d6-4169-8c88-a5db52670ca6', metadata={'source': 'C:\\\\Coding\\\\Projects\\\\Medical-chatbot\\\\data\\\\Medical_book.pdf'}, page_content='GALE ENCYCLOPEDIA OF MEDICINE 226\\nAcne\\nGEM - 0001 to 0432 - A  10/22/03 1:41 PM  Page 26'),\n",
       " Document(id='0b4c6d1c-077f-4f1c-b42f-9dd716396bdf', metadata={'source': 'C:\\\\Coding\\\\Projects\\\\Medical-chatbot\\\\data\\\\Medical_book.pdf'}, page_content='GALE ENCYCLOPEDIA OF MEDICINE 2 25\\nAcne\\nAcne vulgaris affecting a woman’s face. Acne is the general\\nname given to a skin disorder in which the sebaceous\\nglands become inflamed. (Photograph by Biophoto Associ-\\nates, Photo Researchers, Inc. Reproduced by permission.)\\nGEM - 0001 to 0432 - A  10/22/03 1:41 PM  Page 25')]"
      ]
     },
     "execution_count": 52,
     "metadata": {},
     "output_type": "execute_result"
    }
   ],
   "source": [
    "retrieved_docs"
   ]
  },
  {
   "cell_type": "code",
   "execution_count": 53,
   "id": "2f7b929278a5f6c4",
   "metadata": {
    "ExecuteTime": {
     "end_time": "2025-10-18T02:45:01.216133Z",
     "start_time": "2025-10-18T02:45:01.209039Z"
    }
   },
   "outputs": [],
   "source": [
    "from langchain_openai import ChatOpenAI\n",
    "\n",
    "ChatModel=ChatOpenAI(model=\"gpt-4o\")"
   ]
  },
  {
   "cell_type": "code",
   "execution_count": 54,
   "id": "9dbefe9fc17a09ca",
   "metadata": {
    "ExecuteTime": {
     "end_time": "2025-10-18T02:31:12.148550Z",
     "start_time": "2025-10-18T02:31:12.009850Z"
    }
   },
   "outputs": [],
   "source": [
    "from langchain.chains import create_retrieval_chain\n",
    "from langchain.chains.combine_documents import create_stuff_documents_chain\n",
    "from langchain_core.prompts import ChatPromptTemplate"
   ]
  },
  {
   "cell_type": "code",
   "execution_count": 55,
   "id": "a5e79f97b5b399d7",
   "metadata": {
    "ExecuteTime": {
     "end_time": "2025-10-18T02:45:05.259865Z",
     "start_time": "2025-10-18T02:45:05.256523Z"
    }
   },
   "outputs": [],
   "source": [
    "system_prompt=(\n",
    "    \"You are a medical assistant for question-answering tasks. \"\n",
    "    \"Use the following piece of retrieved context to answer \"\n",
    "    \"the question. If you do not know the answer, say that you \"\n",
    "    \"do not know. Use three sentences at max and keep the answer concise. \"\n",
    "    \"\\n\\n\"\n",
    "    \"{context}\"\n",
    ")"
   ]
  },
  {
   "cell_type": "code",
   "execution_count": 56,
   "id": "8cdfda9e063d83a9",
   "metadata": {
    "ExecuteTime": {
     "end_time": "2025-10-18T02:45:06.609056Z",
     "start_time": "2025-10-18T02:45:06.604651Z"
    }
   },
   "outputs": [],
   "source": [
    "prompt=ChatPromptTemplate.from_messages(\n",
    "    [\n",
    "        (\"system\",system_prompt),\n",
    "        (\"human\",\"{input}\"),\n",
    "    ]\n",
    ")"
   ]
  },
  {
   "cell_type": "code",
   "execution_count": 57,
   "id": "439e27f76980ad1f",
   "metadata": {
    "ExecuteTime": {
     "end_time": "2025-10-18T03:33:33.020632Z",
     "start_time": "2025-10-18T03:33:33.015256Z"
    }
   },
   "outputs": [],
   "source": [
    "question_answer_chain=create_stuff_documents_chain(ChatModel,prompt)\n",
    "rag_chain=create_retrieval_chain(retriever,question_answer_chain)"
   ]
  },
  {
   "cell_type": "code",
   "execution_count": 58,
   "id": "569879b13d359ddd",
   "metadata": {},
   "outputs": [
    {
     "name": "stdout",
     "output_type": "stream",
     "text": [
      "Acromegaly is a disorder where the abnormal release of a chemical from the pituitary gland in the brain leads to increased growth in bone and soft tissue, along with various disturbances throughout the body. Gigantism shares a similar cause but occurs specifically in children, leading to excessive growth before the growth plates close. Both conditions result from an excess of growth hormone.\n"
     ]
    }
   ],
   "source": [
    "response=rag_chain.invoke({\"input\":\"what is Acromegaly and Gigantism ?\"})\n",
    "print(response[\"answer\"])"
   ]
  },
  {
   "cell_type": "code",
   "execution_count": 59,
   "id": "83da55e0",
   "metadata": {},
   "outputs": [
    {
     "name": "stdout",
     "output_type": "stream",
     "text": [
      "Acne is a skin disorder where the sebaceous glands become inflamed. It affects various areas of the skin, commonly the face, and is known as acne vulgaris.\n"
     ]
    }
   ],
   "source": [
    "response=rag_chain.invoke({\"input\":\"what is acne ?\"})\n",
    "print(response[\"answer\"])"
   ]
  },
  {
   "cell_type": "markdown",
   "id": "f0771be7",
   "metadata": {},
   "source": [
    "#### **The following cells shows us the model working without conversational memory:**\n",
    "- The model is not able to correctly answer questions related to the `treatment of acne`, as this question was asked indirectly not explicitly as the other questions asked before."
   ]
  },
  {
   "cell_type": "code",
   "execution_count": 60,
   "id": "2e1c7a41",
   "metadata": {},
   "outputs": [
    {
     "name": "stdout",
     "output_type": "stream",
     "text": [
      "The best treatment often depends on the condition being addressed. Conventional treatments might include surgery for severe deformities, while alternative treatments can involve herbal remedies like white willow and yarrow, acupuncture for pain management, and homeopathic remedies for inflammation. It is important to consult with a healthcare provider to tailor the treatment to individual needs.\n"
     ]
    }
   ],
   "source": [
    "response=rag_chain.invoke({\"input\":\"what is the best treatment for it ?\"})\n",
    "print(response[\"answer\"])"
   ]
  },
  {
   "cell_type": "code",
   "execution_count": 61,
   "id": "5f9ec627",
   "metadata": {},
   "outputs": [
    {
     "name": "stdout",
     "output_type": "stream",
     "text": [
      "The context provided covers \"bites and stings\" and \"bed-wetting.\"\n"
     ]
    }
   ],
   "source": [
    "response=rag_chain.invoke({\"input\":\"what are we talking about right now ?\"})\n",
    "print(response[\"answer\"])"
   ]
  },
  {
   "cell_type": "markdown",
   "id": "e8ac2008",
   "metadata": {},
   "source": [
    "**Creating a LLM with Conversational Memory:**\n",
    "- we create a history aware retriever that makes a retriever understand conversation context.\n",
    "- we use message placeholder for chat history in prompts. \n",
    "- we keep a track of human and AI messages, these are structured message types for conversation history."
   ]
  },
  {
   "cell_type": "code",
   "execution_count": 62,
   "id": "e836f44a",
   "metadata": {},
   "outputs": [],
   "source": [
    "from langchain.chains import create_history_aware_retriever\n",
    "from langchain_core.prompts import MessagesPlaceholder\n",
    "from langchain_core.messages import HumanMessage, AIMessage"
   ]
  },
  {
   "cell_type": "code",
   "execution_count": 63,
   "id": "956bbba8",
   "metadata": {},
   "outputs": [],
   "source": [
    "contextualize_system_prompt=\"\"\"Given a chat history and the latest user question which might reference context\n",
    "in the chat history, formulate a standalone question which can be understood without the chat history. Do NOT answer\n",
    "the question, just reformulate it if needed otherwise return it as is.\"\"\""
   ]
  },
  {
   "cell_type": "code",
   "execution_count": 64,
   "id": "d5d8dc7e",
   "metadata": {},
   "outputs": [],
   "source": [
    "contextualize_prompt = ChatPromptTemplate.from_messages([\n",
    "    (\"system\", contextualize_system_prompt),\n",
    "    MessagesPlaceholder(\"chat_history\"),\n",
    "    (\"human\", \"{input}\")\n",
    "])"
   ]
  },
  {
   "cell_type": "code",
   "execution_count": 65,
   "id": "f7c16475",
   "metadata": {},
   "outputs": [],
   "source": [
    "# create history aware retriever\n",
    "history_aware_retriever=create_history_aware_retriever(\n",
    "    llm=ChatModel,retriever=retriever,prompt=contextualize_prompt\n",
    ")"
   ]
  },
  {
   "cell_type": "code",
   "execution_count": 66,
   "id": "c065ac91",
   "metadata": {},
   "outputs": [
    {
     "data": {
      "text/plain": [
       "RunnableBinding(bound=RunnableBranch(branches=[(RunnableLambda(lambda x: not x.get('chat_history', False)), RunnableLambda(lambda x: x['input'])\n",
       "| VectorStoreRetriever(tags=['PineconeVectorStore', 'HuggingFaceEmbeddings'], vectorstore=<langchain_pinecone.vectorstores.PineconeVectorStore object at 0x0000022ABD6E4470>, search_kwargs={'k': 3}))], default=ChatPromptTemplate(input_variables=['chat_history', 'input'], input_types={'chat_history': list[typing.Annotated[typing.Union[typing.Annotated[langchain_core.messages.ai.AIMessage, Tag(tag='ai')], typing.Annotated[langchain_core.messages.human.HumanMessage, Tag(tag='human')], typing.Annotated[langchain_core.messages.chat.ChatMessage, Tag(tag='chat')], typing.Annotated[langchain_core.messages.system.SystemMessage, Tag(tag='system')], typing.Annotated[langchain_core.messages.function.FunctionMessage, Tag(tag='function')], typing.Annotated[langchain_core.messages.tool.ToolMessage, Tag(tag='tool')], typing.Annotated[langchain_core.messages.ai.AIMessageChunk, Tag(tag='AIMessageChunk')], typing.Annotated[langchain_core.messages.human.HumanMessageChunk, Tag(tag='HumanMessageChunk')], typing.Annotated[langchain_core.messages.chat.ChatMessageChunk, Tag(tag='ChatMessageChunk')], typing.Annotated[langchain_core.messages.system.SystemMessageChunk, Tag(tag='SystemMessageChunk')], typing.Annotated[langchain_core.messages.function.FunctionMessageChunk, Tag(tag='FunctionMessageChunk')], typing.Annotated[langchain_core.messages.tool.ToolMessageChunk, Tag(tag='ToolMessageChunk')]], FieldInfo(annotation=NoneType, required=True, discriminator=Discriminator(discriminator=<function _get_type at 0x0000022AED14F2E0>, custom_error_type=None, custom_error_message=None, custom_error_context=None))]]}, partial_variables={}, messages=[SystemMessagePromptTemplate(prompt=PromptTemplate(input_variables=[], input_types={}, partial_variables={}, template='Given a chat history and the latest user question which might reference context\\nin the chat history, formulate a standalone question which can be understood without the chat history. Do NOT answer\\nthe question, just reformulate it if needed otherwise return it as is.'), additional_kwargs={}), MessagesPlaceholder(variable_name='chat_history'), HumanMessagePromptTemplate(prompt=PromptTemplate(input_variables=['input'], input_types={}, partial_variables={}, template='{input}'), additional_kwargs={})])\n",
       "| ChatOpenAI(client=<openai.resources.chat.completions.completions.Completions object at 0x0000022ABB5EA3C0>, async_client=<openai.resources.chat.completions.completions.AsyncCompletions object at 0x0000022AC571A780>, root_client=<openai.OpenAI object at 0x0000022ABC2164B0>, root_async_client=<openai.AsyncOpenAI object at 0x0000022AB97A5970>, model_name='gpt-4o', model_kwargs={}, openai_api_key=SecretStr('**********'))\n",
       "| StrOutputParser()\n",
       "| VectorStoreRetriever(tags=['PineconeVectorStore', 'HuggingFaceEmbeddings'], vectorstore=<langchain_pinecone.vectorstores.PineconeVectorStore object at 0x0000022ABD6E4470>, search_kwargs={'k': 3})), kwargs={}, config={'run_name': 'chat_retriever_chain'}, config_factories=[])"
      ]
     },
     "execution_count": 66,
     "metadata": {},
     "output_type": "execute_result"
    }
   ],
   "source": [
    "history_aware_retriever"
   ]
  },
  {
   "cell_type": "code",
   "execution_count": 81,
   "id": "ef0e0509",
   "metadata": {},
   "outputs": [
    {
     "name": "stdout",
     "output_type": "stream",
     "text": [
      "Conversational RAG chain created!\n"
     ]
    }
   ],
   "source": [
    "# create new document chain with history\n",
    "qa_system_prompt = \"\"\"You are a medical assistant for question-answering tasks.\n",
    "    Use the following piece of retrieved context to answer\n",
    "    the question. If you do not know the answer, say that you\n",
    "    do not know. Use a maximum of three sentences and keep the answer concise.\n",
    "    \n",
    "    Context: {context}\"\"\"\n",
    "\n",
    "qa_prompt = ChatPromptTemplate.from_messages([\n",
    "    (\"system\", qa_system_prompt),\n",
    "    MessagesPlaceholder(\"chat_history\"),\n",
    "    (\"human\",\"{input}\")\n",
    "])\n",
    "\n",
    "qa_chain = create_stuff_documents_chain(llm=ChatModel,prompt=qa_prompt)\n",
    "\n",
    "# creating conversational rag chain\n",
    "conversational_rag_chain = create_retrieval_chain(\n",
    "    history_aware_retriever,\n",
    "    qa_chain\n",
    ")\n",
    "print(\"Conversational RAG chain created!\")"
   ]
  },
  {
   "cell_type": "code",
   "execution_count": 82,
   "id": "99d3e6d9",
   "metadata": {},
   "outputs": [
    {
     "name": "stdout",
     "output_type": "stream",
     "text": [
      "Q: What is acne?\n",
      "A: Acne is a skin disorder characterized by the inflammation of the sebaceous glands.\n"
     ]
    }
   ],
   "source": [
    "# First question\n",
    "chat_history=[]\n",
    "result = conversational_rag_chain.invoke({\n",
    "    \"chat_history\":chat_history,\n",
    "    \"input\": \"What is acne ?\"\n",
    "})\n",
    "print(f\"Q: What is acne?\")\n",
    "print(f\"A: {result['answer']}\")"
   ]
  },
  {
   "cell_type": "code",
   "execution_count": 83,
   "id": "826a4dab",
   "metadata": {},
   "outputs": [],
   "source": [
    "# Based on the first question we add the human message and AI message to the chat history\n",
    "chat_history.extend([\n",
    "    HumanMessage(content = \"What is acne ?\"),\n",
    "    AIMessage(content=result['answer'])\n",
    "])"
   ]
  },
  {
   "cell_type": "code",
   "execution_count": 84,
   "id": "695b5e52",
   "metadata": {},
   "outputs": [
    {
     "data": {
      "text/plain": [
       "[HumanMessage(content='What is acne ?', additional_kwargs={}, response_metadata={}),\n",
       " AIMessage(content='Acne is a skin disorder characterized by the inflammation of the sebaceous glands.', additional_kwargs={}, response_metadata={})]"
      ]
     },
     "execution_count": 84,
     "metadata": {},
     "output_type": "execute_result"
    }
   ],
   "source": [
    "chat_history"
   ]
  },
  {
   "cell_type": "code",
   "execution_count": 85,
   "id": "648d09fa",
   "metadata": {},
   "outputs": [
    {
     "name": "stdout",
     "output_type": "stream",
     "text": [
      "Q: what is the best treatment for it ?\n",
      "A: The best treatment for acne depends on its severity. Mild noninflammatory acne is typically treated with topical medications such as tretinoin, benzoyl peroxide, adapalene, or salicylic acid, sometimes combined with topical antibiotics if inflammation is present. For severe cases, treatment varies, and a healthcare professional should be consulted for personalized recommendations.\n"
     ]
    }
   ],
   "source": [
    "# Follow up question\n",
    "result1 = conversational_rag_chain.invoke({\n",
    "    \"chat_history\":chat_history,\n",
    "    \"input\": \"what is the best treatment for it ?\" # refers to acne from the previous question\n",
    "})\n",
    "print(f\"Q: what is the best treatment for it ?\")\n",
    "print(f\"A: {result1['answer']}\")"
   ]
  },
  {
   "cell_type": "code",
   "execution_count": 86,
   "id": "eaf19e79",
   "metadata": {},
   "outputs": [
    {
     "data": {
      "text/plain": [
       "{'chat_history': [HumanMessage(content='What is acne ?', additional_kwargs={}, response_metadata={}),\n",
       "  AIMessage(content='Acne is a skin disorder characterized by the inflammation of the sebaceous glands.', additional_kwargs={}, response_metadata={})],\n",
       " 'input': 'what is the best treatment for it ?',\n",
       " 'context': [Document(id='cd0bea9f-6174-4331-b9e9-33de4020b04e', metadata={'source': 'C:\\\\Coding\\\\Projects\\\\Medical-chatbot\\\\data\\\\Medical_book.pdf'}, page_content='depends upon whether the acne is mild, moderate, or\\nsevere.\\nDrugs\\nTOPICAL DRUGS. Treatment for mild noninflamma-\\ntory acne consists of reducing the formation of new\\ncomedones with topical tretinoin, benzoyl peroxide, ada-\\npalene, or salicylic acid. Tretinoin is especially effective\\nbecause it increases turnover (death and replacement) of\\nskin cells. When complicated by inflammation, topical\\nantibiotics may be added to the treatment regimen.\\nImprovement is usually seen in two to four weeks.'),\n",
       "  Document(id='45e8a28b-17b7-49fb-b00e-1b776f523be2', metadata={'source': 'C:\\\\Coding\\\\Projects\\\\Medical-chatbot\\\\data\\\\Medical_book.pdf'}, page_content='depends upon whether the acne is mild, moderate, or\\nsevere.\\nDrugs\\nTOPICAL DRUGS. Treatment for mild noninflamma-\\ntory acne consists of reducing the formation of new\\ncomedones with topical tretinoin, benzoyl peroxide, ada-\\npalene, or salicylic acid. Tretinoin is especially effective\\nbecause it increases turnover (death and replacement) of\\nskin cells. When complicated by inflammation, topical\\nantibiotics may be added to the treatment regimen.\\nImprovement is usually seen in two to four weeks.'),\n",
       "  Document(id='8bbb1aba-a758-4e62-b4ec-73c9dc52f0cd', metadata={'source': 'C:\\\\Coding\\\\Projects\\\\Medical-chatbot\\\\data\\\\Medical_book.pdf'}, page_content='milk thistle (Silybum marianum), and with nutrients such\\nas essential fatty acids, vitamin B complex, zinc, vitamin\\nA, and chromium is also recommended. Chinese herbal\\nremedies used for acne include cnidium seed ( Cnidium\\nmonnieri) and honeysuckle flower ( Lonicera japonica ).\\nWholistic physicians or nutritionists can recommend the\\nproper amounts of these herbs.\\nPrognosis\\nAcne is not curable, although long-term control is\\nachieved in up to 60% of patients treated with')],\n",
       " 'answer': 'The best treatment for acne depends on its severity. Mild noninflammatory acne is typically treated with topical medications such as tretinoin, benzoyl peroxide, adapalene, or salicylic acid, sometimes combined with topical antibiotics if inflammation is present. For severe cases, treatment varies, and a healthcare professional should be consulted for personalized recommendations.'}"
      ]
     },
     "execution_count": 86,
     "metadata": {},
     "output_type": "execute_result"
    }
   ],
   "source": [
    "result1"
   ]
  },
  {
   "cell_type": "code",
   "execution_count": 87,
   "id": "a9035b5e",
   "metadata": {},
   "outputs": [],
   "source": [
    "chat_history.extend([\n",
    "    HumanMessage(content = \"what is the best treatment for it ?\"),\n",
    "    AIMessage(content=result1['answer'])\n",
    "])"
   ]
  },
  {
   "cell_type": "code",
   "execution_count": 88,
   "id": "bd49dc6b",
   "metadata": {},
   "outputs": [
    {
     "data": {
      "text/plain": [
       "[HumanMessage(content='What is acne ?', additional_kwargs={}, response_metadata={}),\n",
       " AIMessage(content='Acne is a skin disorder characterized by the inflammation of the sebaceous glands.', additional_kwargs={}, response_metadata={}),\n",
       " HumanMessage(content='what is the best treatment for it ?', additional_kwargs={}, response_metadata={}),\n",
       " AIMessage(content='The best treatment for acne depends on its severity. Mild noninflammatory acne is typically treated with topical medications such as tretinoin, benzoyl peroxide, adapalene, or salicylic acid, sometimes combined with topical antibiotics if inflammation is present. For severe cases, treatment varies, and a healthcare professional should be consulted for personalized recommendations.', additional_kwargs={}, response_metadata={})]"
      ]
     },
     "execution_count": 88,
     "metadata": {},
     "output_type": "execute_result"
    }
   ],
   "source": [
    "chat_history"
   ]
  },
  {
   "cell_type": "code",
   "execution_count": 89,
   "id": "b5013071",
   "metadata": {},
   "outputs": [
    {
     "name": "stdout",
     "output_type": "stream",
     "text": [
      "Q: What are we talking about ?\n",
      "A: We are discussing acne and its treatments.\n"
     ]
    }
   ],
   "source": [
    "# Follow up question\n",
    "result2 = conversational_rag_chain.invoke({\n",
    "    \"chat_history\":chat_history,\n",
    "    \"input\": \"What are we talking about ?\" # refers to acne from the previous question\n",
    "})\n",
    "print(f\"Q: What are we talking about ?\")\n",
    "print(f\"A: {result2['answer']}\")"
   ]
  },
  {
   "cell_type": "code",
   "execution_count": null,
   "id": "c23330f0",
   "metadata": {},
   "outputs": [],
   "source": []
  }
 ],
 "metadata": {
  "kernelspec": {
   "display_name": "medibot",
   "language": "python",
   "name": "python3"
  },
  "language_info": {
   "codemirror_mode": {
    "name": "ipython",
    "version": 3
   },
   "file_extension": ".py",
   "mimetype": "text/x-python",
   "name": "python",
   "nbconvert_exporter": "python",
   "pygments_lexer": "ipython3",
   "version": "3.12.0"
  }
 },
 "nbformat": 4,
 "nbformat_minor": 5
}
