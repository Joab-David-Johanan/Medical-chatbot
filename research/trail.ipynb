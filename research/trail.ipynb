{
 "cells": [
  {
   "cell_type": "code",
   "execution_count": 1,
   "id": "3416e97d2e29056a",
   "metadata": {
    "ExecuteTime": {
     "end_time": "2025-10-17T20:36:53.286182Z",
     "start_time": "2025-10-17T20:36:53.280829Z"
    }
   },
   "outputs": [
    {
     "name": "stdout",
     "output_type": "stream",
     "text": [
      "OK\n"
     ]
    }
   ],
   "source": [
    "from openai import api_key\n",
    "from scipy.stats import cosine\n",
    "\n",
    "print(\"OK\")"
   ]
  },
  {
   "cell_type": "code",
   "execution_count": 2,
   "id": "6764c723296be717",
   "metadata": {
    "ExecuteTime": {
     "end_time": "2025-10-17T20:36:54.641247Z",
     "start_time": "2025-10-17T20:36:54.632901Z"
    }
   },
   "outputs": [
    {
     "data": {
      "text/plain": [
       "'c:\\\\Coding\\\\Projects\\\\Medical-chatbot\\\\research'"
      ]
     },
     "execution_count": 2,
     "metadata": {},
     "output_type": "execute_result"
    }
   ],
   "source": [
    "%pwd"
   ]
  },
  {
   "cell_type": "code",
   "execution_count": 3,
   "id": "441fe3bf895cdcc8",
   "metadata": {
    "ExecuteTime": {
     "end_time": "2025-10-17T20:36:56.102314Z",
     "start_time": "2025-10-17T20:36:56.097105Z"
    }
   },
   "outputs": [],
   "source": [
    "import os\n",
    "os.chdir(\"../\")"
   ]
  },
  {
   "cell_type": "code",
   "execution_count": 4,
   "id": "352e15a3cc769ee8",
   "metadata": {
    "ExecuteTime": {
     "end_time": "2025-10-17T20:43:27.392115Z",
     "start_time": "2025-10-17T20:43:27.385602Z"
    }
   },
   "outputs": [
    {
     "data": {
      "text/plain": [
       "'c:\\\\Coding\\\\Projects\\\\Medical-chatbot'"
      ]
     },
     "execution_count": 4,
     "metadata": {},
     "output_type": "execute_result"
    }
   ],
   "source": [
    "%pwd"
   ]
  },
  {
   "cell_type": "code",
   "execution_count": 5,
   "id": "f1c05890049d46cb",
   "metadata": {
    "ExecuteTime": {
     "end_time": "2025-10-17T20:50:30.752809Z",
     "start_time": "2025-10-17T20:50:30.746652Z"
    }
   },
   "outputs": [
    {
     "name": "stderr",
     "output_type": "stream",
     "text": [
      "c:\\Users\\joabd\\miniconda3\\envs\\medibot\\Lib\\site-packages\\requests\\__init__.py:86: RequestsDependencyWarning: Unable to find acceptable character detection dependency (chardet or charset_normalizer).\n",
      "  warnings.warn(\n",
      "c:\\Users\\joabd\\miniconda3\\envs\\medibot\\Lib\\site-packages\\tqdm\\auto.py:21: TqdmWarning: IProgress not found. Please update jupyter and ipywidgets. See https://ipywidgets.readthedocs.io/en/stable/user_install.html\n",
      "  from .autonotebook import tqdm as notebook_tqdm\n"
     ]
    }
   ],
   "source": [
    "from langchain.document_loaders import PyPDFLoader"
   ]
  },
  {
   "cell_type": "code",
   "execution_count": 6,
   "id": "e595a6ac096933ea",
   "metadata": {
    "ExecuteTime": {
     "end_time": "2025-10-17T20:50:31.784224Z",
     "start_time": "2025-10-17T20:50:31.776325Z"
    }
   },
   "outputs": [],
   "source": [
    "# Extract text from PDF files\n",
    "def extract_text_from_pdf(pdf_path):\n",
    "    loader = PyPDFLoader(pdf_path)\n",
    "    documents = loader.load()\n",
    "    return documents"
   ]
  },
  {
   "cell_type": "code",
   "execution_count": 7,
   "id": "36f3aad40707caf7",
   "metadata": {
    "ExecuteTime": {
     "end_time": "2025-10-17T20:45:46.708535Z",
     "start_time": "2025-10-17T20:45:25.394503Z"
    }
   },
   "outputs": [],
   "source": [
    "extracted_data=extract_text_from_pdf(r\"C:\\Coding\\Projects\\Medical-chatbot\\data\\Medical_book.pdf\")"
   ]
  },
  {
   "cell_type": "code",
   "execution_count": 49,
   "id": "dd5139c3772adc4e",
   "metadata": {
    "ExecuteTime": {
     "end_time": "2025-10-17T21:08:38.322065Z",
     "start_time": "2025-10-17T21:08:38.250281Z"
    }
   },
   "outputs": [
    {
     "data": {
      "text/plain": [
       "[Document(metadata={'producer': 'PDFlib+PDI 5.0.0 (SunOS)', 'creator': 'PyPDF', 'creationdate': '2004-12-18T17:00:02-05:00', 'moddate': '2004-12-18T16:15:31-06:00', 'source': 'C:\\\\Coding\\\\Projects\\\\Medical-chatbot\\\\data\\\\Medical_book.pdf', 'total_pages': 637, 'page': 0, 'page_label': '1'}, page_content=''),\n",
       " Document(metadata={'producer': 'PDFlib+PDI 5.0.0 (SunOS)', 'creator': 'PyPDF', 'creationdate': '2004-12-18T17:00:02-05:00', 'moddate': '2004-12-18T16:15:31-06:00', 'source': 'C:\\\\Coding\\\\Projects\\\\Medical-chatbot\\\\data\\\\Medical_book.pdf', 'total_pages': 637, 'page': 1, 'page_label': '2'}, page_content='The GALE\\nENCYCLOPEDIA\\nof MEDICINE\\nSECOND EDITION')]"
      ]
     },
     "execution_count": 49,
     "metadata": {},
     "output_type": "execute_result"
    }
   ],
   "source": [
    "extracted_data[:2]"
   ]
  },
  {
   "cell_type": "code",
   "execution_count": 9,
   "id": "60ea79c535d942bc",
   "metadata": {
    "ExecuteTime": {
     "end_time": "2025-10-17T20:44:53.464551Z",
     "start_time": "2025-10-17T20:44:53.459010Z"
    }
   },
   "outputs": [
    {
     "data": {
      "text/plain": [
       "637"
      ]
     },
     "execution_count": 9,
     "metadata": {},
     "output_type": "execute_result"
    }
   ],
   "source": [
    "len(extracted_data)"
   ]
  },
  {
   "cell_type": "code",
   "execution_count": 10,
   "id": "969d50c0cffd73b2",
   "metadata": {
    "ExecuteTime": {
     "end_time": "2025-10-17T20:47:58.149119Z",
     "start_time": "2025-10-17T20:47:58.096344Z"
    }
   },
   "outputs": [],
   "source": [
    "from typing import List\n",
    "from langchain.schema import Document"
   ]
  },
  {
   "cell_type": "code",
   "execution_count": 11,
   "id": "23e9b7f1725863f2",
   "metadata": {
    "ExecuteTime": {
     "end_time": "2025-10-17T21:08:37.018246Z",
     "start_time": "2025-10-17T21:08:37.012949Z"
    }
   },
   "outputs": [],
   "source": [
    "def clean_metadata(docs:List[Document])->List[Document]:\n",
    "    \"\"\"\n",
    "    Given a list of Document objects, return a new list of Document objects containing\n",
    "    only 'source' in metadata and the original page_content\n",
    "    :param docs: Original list of Documents with a lot of unwanted metadata information\n",
    "    :return: Cleaned list of Documents with only necessary metadata and the original page_content\n",
    "    \"\"\"\n",
    "    cleaned_doc: List[Document]=[]\n",
    "    for doc in docs:\n",
    "        src=doc.metadata.get(\"source\")\n",
    "        cleaned_doc.append(\n",
    "            Document(\n",
    "                page_content=doc.page_content,\n",
    "                metadata={\"source\":src}\n",
    "            )\n",
    "        )\n",
    "    return cleaned_doc"
   ]
  },
  {
   "cell_type": "code",
   "execution_count": 12,
   "id": "b2eee730f2c30df1",
   "metadata": {
    "ExecuteTime": {
     "end_time": "2025-10-17T21:01:59.689734Z",
     "start_time": "2025-10-17T21:01:59.682960Z"
    }
   },
   "outputs": [],
   "source": [
    "cleaned_document=clean_metadata(extracted_data)"
   ]
  },
  {
   "cell_type": "code",
   "execution_count": 50,
   "id": "4ac88206090f20bc",
   "metadata": {
    "ExecuteTime": {
     "end_time": "2025-10-17T21:02:08.304959Z",
     "start_time": "2025-10-17T21:02:08.241683Z"
    }
   },
   "outputs": [
    {
     "data": {
      "text/plain": [
       "[Document(metadata={'source': 'C:\\\\Coding\\\\Projects\\\\Medical-chatbot\\\\data\\\\Medical_book.pdf'}, page_content=''),\n",
       " Document(metadata={'source': 'C:\\\\Coding\\\\Projects\\\\Medical-chatbot\\\\data\\\\Medical_book.pdf'}, page_content='The GALE\\nENCYCLOPEDIA\\nof MEDICINE\\nSECOND EDITION')]"
      ]
     },
     "execution_count": 50,
     "metadata": {},
     "output_type": "execute_result"
    }
   ],
   "source": [
    "cleaned_document[:2]"
   ]
  },
  {
   "cell_type": "code",
   "execution_count": 52,
   "id": "7253ad18",
   "metadata": {},
   "outputs": [
    {
     "data": {
      "text/plain": [
       "637"
      ]
     },
     "execution_count": 52,
     "metadata": {},
     "output_type": "execute_result"
    }
   ],
   "source": [
    "len(cleaned_document)"
   ]
  },
  {
   "cell_type": "code",
   "execution_count": 53,
   "id": "4bb3e45141fe05f4",
   "metadata": {
    "ExecuteTime": {
     "end_time": "2025-10-17T21:05:07.452772Z",
     "start_time": "2025-10-17T21:05:07.449529Z"
    }
   },
   "outputs": [],
   "source": [
    "from langchain.text_splitter import RecursiveCharacterTextSplitter"
   ]
  },
  {
   "cell_type": "code",
   "execution_count": 54,
   "id": "ff006d3a0e11c62b",
   "metadata": {
    "ExecuteTime": {
     "end_time": "2025-10-17T21:08:39.624412Z",
     "start_time": "2025-10-17T21:08:39.620376Z"
    }
   },
   "outputs": [],
   "source": [
    "# Split the cleaned documents into smaller chunks\n",
    "def document_into_chunks(cleaned_documents):\n",
    "    text_splitter=RecursiveCharacterTextSplitter(\n",
    "        chunk_size=500,\n",
    "        chunk_overlap=20,\n",
    "    )\n",
    "    texts=text_splitter.split_documents(cleaned_documents)\n",
    "    return texts"
   ]
  },
  {
   "cell_type": "code",
   "execution_count": 55,
   "id": "d3e1bb9f9f990aaa",
   "metadata": {
    "ExecuteTime": {
     "end_time": "2025-10-17T21:09:30.302101Z",
     "start_time": "2025-10-17T21:09:30.222863Z"
    }
   },
   "outputs": [],
   "source": [
    "chunks=document_into_chunks(cleaned_document)"
   ]
  },
  {
   "cell_type": "code",
   "execution_count": 56,
   "id": "f6297f45391a40b6",
   "metadata": {
    "ExecuteTime": {
     "end_time": "2025-10-17T21:09:46.473072Z",
     "start_time": "2025-10-17T21:09:46.437350Z"
    }
   },
   "outputs": [
    {
     "data": {
      "text/plain": [
       "[Document(metadata={'source': 'C:\\\\Coding\\\\Projects\\\\Medical-chatbot\\\\data\\\\Medical_book.pdf'}, page_content='The GALE\\nENCYCLOPEDIA\\nof MEDICINE\\nSECOND EDITION'),\n",
       " Document(metadata={'source': 'C:\\\\Coding\\\\Projects\\\\Medical-chatbot\\\\data\\\\Medical_book.pdf'}, page_content='The GALE\\nENCYCLOPEDIA\\nof MEDICINE\\nSECOND EDITION\\nJACQUELINE L. LONGE, EDITOR\\nDEIRDRE S. BLANCHFIELD, ASSOCIATE EDITOR\\nVOLUME\\nA-B\\n1')]"
      ]
     },
     "execution_count": 56,
     "metadata": {},
     "output_type": "execute_result"
    }
   ],
   "source": [
    "chunks[:2]"
   ]
  },
  {
   "cell_type": "code",
   "execution_count": 18,
   "id": "4c482be7cdaa4cd0",
   "metadata": {
    "ExecuteTime": {
     "end_time": "2025-10-17T21:09:38.095433Z",
     "start_time": "2025-10-17T21:09:38.088837Z"
    }
   },
   "outputs": [
    {
     "data": {
      "text/plain": [
       "5859"
      ]
     },
     "execution_count": 18,
     "metadata": {},
     "output_type": "execute_result"
    }
   ],
   "source": [
    "len(chunks)"
   ]
  },
  {
   "cell_type": "code",
   "execution_count": 19,
   "id": "fed1a1865b2b459",
   "metadata": {
    "ExecuteTime": {
     "end_time": "2025-10-17T21:11:56.390238Z",
     "start_time": "2025-10-17T21:11:56.319750Z"
    }
   },
   "outputs": [],
   "source": [
    "from langchain.embeddings import HuggingFaceEmbeddings"
   ]
  },
  {
   "cell_type": "code",
   "execution_count": 20,
   "id": "5f78d015726d848d",
   "metadata": {
    "ExecuteTime": {
     "end_time": "2025-10-17T21:16:34.756183Z",
     "start_time": "2025-10-17T21:16:34.749611Z"
    }
   },
   "outputs": [],
   "source": [
    "# Downloading the embedding model\n",
    "def download_embeddings():\n",
    "    \"\"\"\n",
    "    Download and return the HuggingFace Embedding model\n",
    "    :return: HuggingFace embedding model\n",
    "    \"\"\"\n",
    "    model='sentence-transformers/all-MiniLM-L6-v2'\n",
    "    embeddings=HuggingFaceEmbeddings(\n",
    "        model_name=model\n",
    "    )\n",
    "    return embeddings\n"
   ]
  },
  {
   "cell_type": "code",
   "execution_count": 21,
   "id": "6738dddff0f71b7b",
   "metadata": {
    "ExecuteTime": {
     "end_time": "2025-10-18T02:45:05.251251Z",
     "start_time": "2025-10-18T02:45:02.684327Z"
    }
   },
   "outputs": [
    {
     "name": "stderr",
     "output_type": "stream",
     "text": [
      "C:\\Users\\joabd\\AppData\\Local\\Temp\\ipykernel_29780\\788224968.py:8: LangChainDeprecationWarning: The class `HuggingFaceEmbeddings` was deprecated in LangChain 0.2.2 and will be removed in 1.0. An updated version of the class exists in the :class:`~langchain-huggingface package and should be used instead. To use it run `pip install -U :class:`~langchain-huggingface` and import as `from :class:`~langchain_huggingface import HuggingFaceEmbeddings``.\n",
      "  embeddings=HuggingFaceEmbeddings(\n"
     ]
    }
   ],
   "source": [
    "embedding_model=download_embeddings()"
   ]
  },
  {
   "cell_type": "code",
   "execution_count": 22,
   "id": "cee42353d3c4d19a",
   "metadata": {
    "ExecuteTime": {
     "end_time": "2025-10-17T21:18:48.980170Z",
     "start_time": "2025-10-17T21:18:48.972531Z"
    }
   },
   "outputs": [
    {
     "data": {
      "text/plain": [
       "HuggingFaceEmbeddings(client=SentenceTransformer(\n",
       "  (0): Transformer({'max_seq_length': 256, 'do_lower_case': False}) with Transformer model: BertModel \n",
       "  (1): Pooling({'word_embedding_dimension': 384, 'pooling_mode_cls_token': False, 'pooling_mode_mean_tokens': True, 'pooling_mode_max_tokens': False, 'pooling_mode_mean_sqrt_len_tokens': False, 'pooling_mode_weightedmean_tokens': False, 'pooling_mode_lasttoken': False, 'include_prompt': True})\n",
       "  (2): Normalize()\n",
       "), model_name='sentence-transformers/all-MiniLM-L6-v2', cache_folder=None, model_kwargs={}, encode_kwargs={}, multi_process=False, show_progress=False)"
      ]
     },
     "execution_count": 22,
     "metadata": {},
     "output_type": "execute_result"
    }
   ],
   "source": [
    "embedding_model"
   ]
  },
  {
   "cell_type": "code",
   "execution_count": 44,
   "id": "3d065ce84d114c1d",
   "metadata": {
    "ExecuteTime": {
     "end_time": "2025-10-18T03:33:32.012837Z",
     "start_time": "2025-10-18T03:33:31.984975Z"
    }
   },
   "outputs": [
    {
     "data": {
      "text/plain": [
       "[-0.03447723016142845,\n",
       " 0.031023241579532623,\n",
       " 0.006735020782798529,\n",
       " 0.026109028607606888,\n",
       " -0.039362046867609024,\n",
       " -0.16030247509479523,\n",
       " 0.06692402064800262,\n",
       " -0.006441468372941017,\n",
       " -0.04745054990053177,\n",
       " 0.01475888304412365]"
      ]
     },
     "execution_count": 44,
     "metadata": {},
     "output_type": "execute_result"
    }
   ],
   "source": [
    "vector=embedding_model.embed_query(\"Hello world\")\n",
    "vector[:10]"
   ]
  },
  {
   "cell_type": "code",
   "execution_count": 24,
   "id": "d1416f032adec8fd",
   "metadata": {
    "ExecuteTime": {
     "end_time": "2025-10-17T21:19:54.514050Z",
     "start_time": "2025-10-17T21:19:54.507906Z"
    }
   },
   "outputs": [
    {
     "data": {
      "text/plain": [
       "384"
      ]
     },
     "execution_count": 24,
     "metadata": {},
     "output_type": "execute_result"
    }
   ],
   "source": [
    "# Embedding model is a sentence transformer so it converts a sentence into a 384 dimensional vector\n",
    "len(vector)"
   ]
  },
  {
   "cell_type": "code",
   "execution_count": 25,
   "id": "7938eba78e95265",
   "metadata": {
    "ExecuteTime": {
     "end_time": "2025-10-18T00:38:30.331895Z",
     "start_time": "2025-10-18T00:38:30.319428Z"
    }
   },
   "outputs": [
    {
     "data": {
      "text/plain": [
       "True"
      ]
     },
     "execution_count": 25,
     "metadata": {},
     "output_type": "execute_result"
    }
   ],
   "source": [
    "from dotenv import load_dotenv\n",
    "load_dotenv()"
   ]
  },
  {
   "cell_type": "code",
   "execution_count": 26,
   "id": "ab4f8eaaff72d81c",
   "metadata": {
    "ExecuteTime": {
     "end_time": "2025-10-18T00:48:11.095180Z",
     "start_time": "2025-10-18T00:48:11.089359Z"
    }
   },
   "outputs": [],
   "source": [
    "PINECONE_API_KEY=os.getenv(\"PINECONE_API_KEY\")\n",
    "OPENAI_API_KEY=os.getenv(\"OPENAI_API_KEY\")"
   ]
  },
  {
   "cell_type": "code",
   "execution_count": 27,
   "id": "cef246bb8c3b6255",
   "metadata": {
    "ExecuteTime": {
     "end_time": "2025-10-18T00:52:28.893357Z",
     "start_time": "2025-10-18T00:52:28.888051Z"
    }
   },
   "outputs": [],
   "source": [
    "os.environ[\"PINECONE_API_KEY\"] = PINECONE_API_KEY\n",
    "os.environ[\"OPENAI_API_KEY\"] = OPENAI_API_KEY"
   ]
  },
  {
   "cell_type": "code",
   "execution_count": 28,
   "id": "fcea0447bef80ddd",
   "metadata": {
    "ExecuteTime": {
     "end_time": "2025-10-18T00:52:55.993792Z",
     "start_time": "2025-10-18T00:52:55.989117Z"
    }
   },
   "outputs": [],
   "source": [
    "from pinecone import Pinecone\n",
    "pc=Pinecone(api_key=PINECONE_API_KEY)"
   ]
  },
  {
   "cell_type": "code",
   "execution_count": 29,
   "id": "641990b4edfa4bd5",
   "metadata": {
    "ExecuteTime": {
     "end_time": "2025-10-18T00:52:57.600929Z",
     "start_time": "2025-10-18T00:52:57.329250Z"
    }
   },
   "outputs": [
    {
     "data": {
      "text/plain": [
       "<pinecone.pinecone.Pinecone at 0x1fe8b0d75c0>"
      ]
     },
     "execution_count": 29,
     "metadata": {},
     "output_type": "execute_result"
    }
   ],
   "source": [
    "pc"
   ]
  },
  {
   "cell_type": "code",
   "execution_count": 30,
   "id": "3a73e2e543b9b575",
   "metadata": {
    "ExecuteTime": {
     "end_time": "2025-10-18T01:15:54.150805Z",
     "start_time": "2025-10-18T01:15:53.438737Z"
    }
   },
   "outputs": [],
   "source": [
    "from pinecone import ServerlessSpec\n",
    "index_name=\"medical-chatbot\"\n",
    "\n",
    "if not pc.has_index(index_name):\n",
    "    pc.create_index(\n",
    "        name=index_name,\n",
    "        dimension=384, # Dimensionality of the embedding\n",
    "        metric=\"cosine\", # Cosine Similarity metric\n",
    "        spec=ServerlessSpec(cloud=\"aws\", region=\"us-east-1\")\n",
    "    )\n",
    "\n",
    "index=pc.Index(index_name)"
   ]
  },
  {
   "cell_type": "markdown",
   "id": "4c8e5ec58296d70c",
   "metadata": {},
   "source": [
    "#### **Note:**\n",
    "- We do not convert the chunks into vectors and store the vectors in the pinecone vector database\n",
    "- We just give the chunks, the embedding model and the index name, pinecone converts the chunks to the vectors and vice versa using the embedding model we specified.\n",
    "- <span style=\"background-color:orange;\">When you upload the documents to the pinecone vector database, it does not check if the documents are already present in a given index so there is high possibility of duplication of documents in case you run the code cell twice.</span>"
   ]
  },
  {
   "cell_type": "code",
   "execution_count": 31,
   "id": "5dc4bf14a1833870",
   "metadata": {
    "ExecuteTime": {
     "end_time": "2025-10-18T02:20:33.236698Z",
     "start_time": "2025-10-18T02:18:07.453819Z"
    }
   },
   "outputs": [],
   "source": [
    "from langchain_pinecone import PineconeVectorStore\n",
    "\n",
    "docsearch=PineconeVectorStore.from_documents(\n",
    "    documents=chunks,\n",
    "    embedding=embedding_model,\n",
    "    index_name=index_name\n",
    ")"
   ]
  },
  {
   "cell_type": "code",
   "execution_count": 32,
   "id": "cabffeeb2665e22d",
   "metadata": {
    "ExecuteTime": {
     "end_time": "2025-10-18T02:18:05.095148Z",
     "start_time": "2025-10-18T02:18:05.090907Z"
    }
   },
   "outputs": [],
   "source": [
    "retriever=docsearch.as_retriever(search_type=\"similarity\",search_kwargs={\"k\":3})"
   ]
  },
  {
   "cell_type": "code",
   "execution_count": 33,
   "id": "a0647f2f115ba216",
   "metadata": {
    "ExecuteTime": {
     "end_time": "2025-10-18T02:21:03.876280Z",
     "start_time": "2025-10-18T02:21:02.908593Z"
    }
   },
   "outputs": [],
   "source": [
    "retrieved_docs=retriever.invoke(\"What is acne?\")"
   ]
  },
  {
   "cell_type": "code",
   "execution_count": 34,
   "id": "ee349a712a612eb6",
   "metadata": {
    "ExecuteTime": {
     "end_time": "2025-10-18T02:21:25.643454Z",
     "start_time": "2025-10-18T02:21:25.625849Z"
    }
   },
   "outputs": [
    {
     "data": {
      "text/plain": [
       "[Document(id='65b852ad-351e-488f-b122-8eb48c662817', metadata={'source': 'C:\\\\Coding\\\\Projects\\\\Medical-chatbot\\\\data\\\\Medical_book.pdf'}, page_content='GALE ENCYCLOPEDIA OF MEDICINE 226\\nAcne\\nGEM - 0001 to 0432 - A  10/22/03 1:41 PM  Page 26'),\n",
       " Document(id='60e4aa36-e1a6-40f5-aa0d-1395943ebf0b', metadata={'source': 'C:\\\\Coding\\\\Projects\\\\Medical-chatbot\\\\data\\\\Medical_book.pdf'}, page_content='GALE ENCYCLOPEDIA OF MEDICINE 226\\nAcne\\nGEM - 0001 to 0432 - A  10/22/03 1:41 PM  Page 26'),\n",
       " Document(id='d76149d0-703f-4271-8186-667327103af9', metadata={'source': 'C:\\\\Coding\\\\Projects\\\\Medical-chatbot\\\\data\\\\Medical_book.pdf'}, page_content='GALE ENCYCLOPEDIA OF MEDICINE 226\\nAcne\\nGEM - 0001 to 0432 - A  10/22/03 1:41 PM  Page 26')]"
      ]
     },
     "execution_count": 34,
     "metadata": {},
     "output_type": "execute_result"
    }
   ],
   "source": [
    "retrieved_docs"
   ]
  },
  {
   "cell_type": "code",
   "execution_count": 35,
   "id": "2f7b929278a5f6c4",
   "metadata": {
    "ExecuteTime": {
     "end_time": "2025-10-18T02:45:01.216133Z",
     "start_time": "2025-10-18T02:45:01.209039Z"
    }
   },
   "outputs": [],
   "source": [
    "from langchain_openai import ChatOpenAI\n",
    "\n",
    "ChatModel=ChatOpenAI(model=\"gpt-4o\")"
   ]
  },
  {
   "cell_type": "code",
   "execution_count": 36,
   "id": "9dbefe9fc17a09ca",
   "metadata": {
    "ExecuteTime": {
     "end_time": "2025-10-18T02:31:12.148550Z",
     "start_time": "2025-10-18T02:31:12.009850Z"
    }
   },
   "outputs": [],
   "source": [
    "from langchain.chains import create_retrieval_chain\n",
    "from langchain.chains.combine_documents import create_stuff_documents_chain\n",
    "from langchain_core.prompts import ChatPromptTemplate"
   ]
  },
  {
   "cell_type": "code",
   "execution_count": 37,
   "id": "a5e79f97b5b399d7",
   "metadata": {
    "ExecuteTime": {
     "end_time": "2025-10-18T02:45:05.259865Z",
     "start_time": "2025-10-18T02:45:05.256523Z"
    }
   },
   "outputs": [],
   "source": [
    "system_prompt=(\n",
    "    \"You are a medical assistant for question-answering tasks. \"\n",
    "    \"Use the following piece of retrieved context to answer \"\n",
    "    \"the question. If you do not know the answer, say that you \"\n",
    "    \"do not know. Use three sentences at max and keep the answer concise. \"\n",
    "    \"\\n\\n\"\n",
    "    \"{context}\"\n",
    ")"
   ]
  },
  {
   "cell_type": "code",
   "execution_count": 38,
   "id": "8cdfda9e063d83a9",
   "metadata": {
    "ExecuteTime": {
     "end_time": "2025-10-18T02:45:06.609056Z",
     "start_time": "2025-10-18T02:45:06.604651Z"
    }
   },
   "outputs": [],
   "source": [
    "prompt=ChatPromptTemplate.from_messages(\n",
    "    [\n",
    "        (\"system\",system_prompt),\n",
    "        (\"human\",\"{input}\"),\n",
    "    ]\n",
    ")"
   ]
  },
  {
   "cell_type": "code",
   "execution_count": 39,
   "id": "439e27f76980ad1f",
   "metadata": {
    "ExecuteTime": {
     "end_time": "2025-10-18T03:33:33.020632Z",
     "start_time": "2025-10-18T03:33:33.015256Z"
    }
   },
   "outputs": [],
   "source": [
    "question_answer_chain=create_stuff_documents_chain(ChatModel,prompt)\n",
    "rag_chain=create_retrieval_chain(retriever,question_answer_chain)"
   ]
  },
  {
   "cell_type": "code",
   "execution_count": 40,
   "id": "569879b13d359ddd",
   "metadata": {},
   "outputs": [
    {
     "name": "stdout",
     "output_type": "stream",
     "text": [
      "Acromegaly is a disorder characterized by the abnormal release of a chemical from the pituitary gland, leading to increased growth in bones and soft tissue and causing various disturbances throughout the body. Gigantism refers to similar excessive growth but occurs in children or adolescents whose growth plates have not yet closed. Both conditions are related to hormonal imbalances involving the pituitary gland.\n"
     ]
    }
   ],
   "source": [
    "response=rag_chain.invoke({\"input\":\"what is Acromegaly and Gigantism ?\"})\n",
    "print(response[\"answer\"])"
   ]
  },
  {
   "cell_type": "code",
   "execution_count": 41,
   "id": "83da55e0",
   "metadata": {},
   "outputs": [
    {
     "name": "stdout",
     "output_type": "stream",
     "text": [
      "Acne is a skin condition characterized by the appearance of pimples, blackheads, whiteheads, cysts, and nodules due to clogged hair follicles and sebaceous (oil) glands. It often affects teenagers but can occur at any age. It can appear on the face, back, chest, and shoulders.\n"
     ]
    }
   ],
   "source": [
    "response=rag_chain.invoke({\"input\":\"what is acne ?\"})\n",
    "print(response[\"answer\"])"
   ]
  },
  {
   "cell_type": "markdown",
   "id": "f0771be7",
   "metadata": {},
   "source": [
    "#### **The following cells show us the model working without conversational memory:**\n",
    "- The model is not able to correctly answer questions related to the `treatment of acne`, as this question was asked indirectly not explicitly as the other questions asked before."
   ]
  },
  {
   "cell_type": "code",
   "execution_count": 42,
   "id": "2e1c7a41",
   "metadata": {},
   "outputs": [
    {
     "name": "stdout",
     "output_type": "stream",
     "text": [
      "The best treatment approach depends on the severity of the case. In severe cases of deformity, surgery may be performed to straighten and realign the spine or replace joints. For managing inflammation and pain, alternative treatments like herbal remedies, acupuncture, and homeopathic remedies may be helpful.\n"
     ]
    }
   ],
   "source": [
    "response=rag_chain.invoke({\"input\":\"what is the best treatment for it ?\"})\n",
    "print(response[\"answer\"])"
   ]
  },
  {
   "cell_type": "code",
   "execution_count": 43,
   "id": "5f9ec627",
   "metadata": {},
   "outputs": [
    {
     "name": "stdout",
     "output_type": "stream",
     "text": [
      "The retrieved context is about bites and stings.\n"
     ]
    }
   ],
   "source": [
    "response=rag_chain.invoke({\"input\":\"what are we talking about right now ?\"})\n",
    "print(response[\"answer\"])"
   ]
  },
  {
   "cell_type": "code",
   "execution_count": null,
   "id": "e836f44a",
   "metadata": {},
   "outputs": [],
   "source": []
  },
  {
   "cell_type": "code",
   "execution_count": null,
   "id": "956bbba8",
   "metadata": {},
   "outputs": [],
   "source": []
  },
  {
   "cell_type": "code",
   "execution_count": null,
   "id": "d5d8dc7e",
   "metadata": {},
   "outputs": [],
   "source": []
  }
 ],
 "metadata": {
  "kernelspec": {
   "display_name": "medibot",
   "language": "python",
   "name": "python3"
  },
  "language_info": {
   "codemirror_mode": {
    "name": "ipython",
    "version": 3
   },
   "file_extension": ".py",
   "mimetype": "text/x-python",
   "name": "python",
   "nbconvert_exporter": "python",
   "pygments_lexer": "ipython3",
   "version": "3.12.0"
  }
 },
 "nbformat": 4,
 "nbformat_minor": 5
}
